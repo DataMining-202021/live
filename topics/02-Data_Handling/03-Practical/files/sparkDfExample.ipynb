{
 "cells": [
  {
   "cell_type": "code",
   "execution_count": null,
   "id": "resistant-reverse",
   "metadata": {},
   "outputs": [],
   "source": [
    "from pyspark.ml.feature import SQLTransformer\n",
    "from pyspark.sql import SparkSession"
   ]
  },
  {
   "cell_type": "markdown",
   "id": "generous-transcription",
   "metadata": {},
   "source": [
    "Having imported the relevant classes from pyspark, we are now ready to get or create a SparkSession named \"SQLTransformerExample\" that is available for us to run Spark jobs."
   ]
  },
  {
   "cell_type": "code",
   "execution_count": null,
   "id": "increased-expression",
   "metadata": {},
   "outputs": [],
   "source": [
    "spark = SparkSession\\\n",
    "        .builder\\\n",
    "        .appName(\"SQLTransformerExample\")\\\n",
    "        .getOrCreate()"
   ]
  },
  {
   "cell_type": "markdown",
   "id": "loving-candidate",
   "metadata": {},
   "source": [
    "Using the resources in that SparkSession, we create a _Spark_ dataframe that we populate with some numbers. Note that the fields in that dataframe are named `id`, `vi` and `v2`."
   ]
  },
  {
   "cell_type": "code",
   "execution_count": null,
   "id": "painted-assistant",
   "metadata": {},
   "outputs": [],
   "source": [
    "sparkDf = spark.createDataFrame([\n",
    "        (0, 1.0, 3.0),\n",
    "        (2, 2.0, 5.0)\n",
    "    ], [\"id\", \"v1\", \"v2\"])"
   ]
  },
  {
   "cell_type": "markdown",
   "id": "alleged-variance",
   "metadata": {},
   "source": [
    "We inspect the resulting `sparkDf` dataframe, to make sure it looks like what we want."
   ]
  },
  {
   "cell_type": "code",
   "execution_count": null,
   "id": "accessory-catch",
   "metadata": {},
   "outputs": [],
   "source": [
    "sparkDf.show()"
   ]
  },
  {
   "cell_type": "markdown",
   "id": "exposed-kingston",
   "metadata": {},
   "source": [
    "Now we define a simple Transformation specified in the SQL statement: adding 2 computed columns v3 and v4."
   ]
  },
  {
   "cell_type": "code",
   "execution_count": null,
   "id": "assured-rolling",
   "metadata": {},
   "outputs": [],
   "source": [
    "sqlTrans = SQLTransformer(\n",
    "        statement=\"SELECT *, (v1 + v2) AS v3, (v1 * v2) AS v4 FROM __THIS__\")"
   ]
  },
  {
   "cell_type": "markdown",
   "id": "close-swimming",
   "metadata": {},
   "source": [
    "Now we can apply this SQL transformation to `sparkDf`, which replaces the placeholder `__THIS__` in `sqlTrans` above."
   ]
  },
  {
   "cell_type": "code",
   "execution_count": null,
   "id": "animated-consistency",
   "metadata": {},
   "outputs": [],
   "source": [
    "sparkDf2 = sqlTrans.transform(sparkDf)\n",
    "sparkDf2.show()"
   ]
  },
  {
   "cell_type": "markdown",
   "id": "racial-terminal",
   "metadata": {},
   "source": [
    "We can convert the Spark dataframe (which lives in HDFS) to an in-memory pandas dataframe as follows"
   ]
  },
  {
   "cell_type": "code",
   "execution_count": null,
   "id": "brown-agriculture",
   "metadata": {},
   "outputs": [],
   "source": [
    "pandasDf = sparkDf2.select(\"*\").toPandas()\n",
    "pandasDf"
   ]
  },
  {
   "cell_type": "markdown",
   "id": "comic-relief",
   "metadata": {},
   "source": [
    "Now we can modify that pandas dataframe, using typical pandas operations, adding a new column to the dataframe. We can view the output just to check that the `v5` column has been added."
   ]
  },
  {
   "cell_type": "code",
   "execution_count": null,
   "id": "considered-brief",
   "metadata": {},
   "outputs": [],
   "source": [
    "import pandas as pd\n",
    "pandasDf['v5'] = pandasDf['v4'] - pandasDf['v3']\n",
    "pandasDf"
   ]
  },
  {
   "cell_type": "markdown",
   "id": "central-asset",
   "metadata": {},
   "source": [
    "We can convert pandasDf to a Spark dataframe, writing it to HDFS in the process..."
   ]
  },
  {
   "cell_type": "code",
   "execution_count": null,
   "id": "constant-newsletter",
   "metadata": {},
   "outputs": [],
   "source": [
    "sparkDf3 = spark.createDataFrame(pandasDf)\n",
    "sparkDf3.show()"
   ]
  },
  {
   "cell_type": "markdown",
   "id": "enormous-quebec",
   "metadata": {},
   "source": [
    "\n",
    "We now stop that SparkContext, releasing its resources back into the pool."
   ]
  },
  {
   "cell_type": "code",
   "execution_count": null,
   "id": "adequate-accent",
   "metadata": {},
   "outputs": [],
   "source": [
    "spark.stop()"
   ]
  },
  {
   "cell_type": "code",
   "execution_count": null,
   "id": "ongoing-framework",
   "metadata": {},
   "outputs": [],
   "source": []
  }
 ],
 "metadata": {
  "kernelspec": {
   "display_name": "Python 3",
   "language": "python",
   "name": "python3"
  },
  "language_info": {
   "codemirror_mode": {
    "name": "ipython",
    "version": 3
   },
   "file_extension": ".py",
   "mimetype": "text/x-python",
   "name": "python",
   "nbconvert_exporter": "python",
   "pygments_lexer": "ipython3",
   "version": "3.8.5"
  }
 },
 "nbformat": 4,
 "nbformat_minor": 5
}
